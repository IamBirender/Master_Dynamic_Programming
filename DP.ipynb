{
 "cells": [
  {
   "cell_type": "markdown",
   "metadata": {},
   "source": [
    "### Dynamic Programming\n",
    "Dynamic Programming (DP) is a technique that solves some particular type of problems in Polynomial Time. Dynamic Programming is an algorithmic paradigm that solves a given complex problem by breaking it into subproblems and stores the results of subproblems to avoid computing the same results again. Following are the two main properties of a problem that suggests that the given problem can be solved using Dynamic Programming. \n",
    "<br>\n",
    "<ol>Two concepts before jumping to DP:\n",
    "    <li>Overlapping Subproblems</li>\n",
    "    <li>Optimal Substructure Property</li>\n",
    "</ol>\n",
    "\n",
    "#### Optimal Subproblems Property in DP:\n",
    "Like Divide and Conquer, Dynamic Programming combines solutions to sub-problems. Dynamic Programming is mainly used when solutions of same subproblems are needed again and again. In dynamic programming, computed solutions to sub problems are stored in a table so that these don't have to be recomputed. So Dynamic Programming is not useful when there are no common (overlapping) subproblem because there is no point storing the solutions if they are not needed again. i.e. Binary search doesn't have common subproblems. If we take an example of following recursive program for Fibonacci Numbers there are many subproblems which are solved again and again.\n",
    "<br><br>\n",
    "simple recursive program for Fibonacci numbers <br>\n",
    "<code>\n",
    "    int fib(int n):\n",
    "        if n<=1:\n",
    "                return n\n",
    "        return fib(n-1)+fib(n-2)\n",
    "</code>\n",
    "<br>\n",
    "    \n",
    "#### Recursion Tree for execution of fib(5)\n",
    "<br>\n",
    "                              \n",
    "                         fib(5)\n",
    "                     /             \\\n",
    "               fib(4)                fib(3)\n",
    "             /      \\                /     \\\n",
    "         fib(3)      fib(2)         fib(2)    fib(1)\n",
    "        /     \\        /    \\       /    \\\n",
    "  fib(2)   fib(1)  fib(1) fib(0) fib(1) fib(0)\n",
    "  /    \\\n",
    "fib(1) fib(0)\n",
    "\n",
    "<br>We can see that the function fib(3) is being called 2 times. If we would have stored the value of fib(3), then instead of computing it again, we could have reused the old stored value. \n",
    "<ol>There are following two different ways to store the values so that these values can be reused. \n",
    "    <li>Memoization(Top Down): <br> The memoized program for a problme is similar to the recursive version with a small modification that it looks into a lookup table before computing solutions. We initialize a lookup array with all initial values as NIL. Wheneven we need the solution to a subproblem, we first look into the lookup table. If the precomputed value is there then we return that value, otherwise, we calculate the value and put the result in the lookup table so that it can be reused later.<br></li>\n",
    "    <li>Tabulation (Bottom Up)</li>    \n",
    "    </ol>\n"
   ]
  },
  {
   "cell_type": "code",
   "execution_count": 2,
   "metadata": {},
   "outputs": [
    {
     "name": "stdout",
     "output_type": "stream",
     "text": [
      "Fibonacci Number is 5702887\n"
     ]
    }
   ],
   "source": [
    "#Function to calculate nth Fibonacci number\n",
    "def fib(n, lookup):\n",
    "    \n",
    "    #base case\n",
    "    if n == 0 or n == 1:\n",
    "        lookup[n] = n\n",
    "    #if the value is not calculated previously then calculate\n",
    "    if lookup[n] is None:\n",
    "        lookup[n] = fib(n-1, lookup)+ fib(n-2, lookup)\n",
    "    \n",
    "    # return the value corresponding to that value of n\n",
    "    return lookup[n]\n",
    "#end of function\n",
    "\n",
    "# Driver program to test the above function\n",
    "def main():\n",
    "    n = 34\n",
    "    #Declaration of lookup table \n",
    "    # Handles till n = 100\n",
    "    lookup = [None]*(101)\n",
    "    print(\"Fibonacci Number is\", fib(n, lookup))\n",
    "\n",
    "if __name__ == \"__main__\":\n",
    "    main()"
   ]
  },
  {
   "cell_type": "markdown",
   "metadata": {},
   "source": [
    "<b> Tabulation (Bottom Up): </b>The tabulated program for a given problem builds a table in bottom up fashion and returns the last entry from table. For example, for the same Fibonacci number, we first calculate fib(0) then fib(1) then fib(3) and so on. So literally, we are building the solutions of subproblems bottom-up.\n"
   ]
  },
  {
   "cell_type": "code",
   "execution_count": 3,
   "metadata": {},
   "outputs": [
    {
     "name": "stdout",
     "output_type": "stream",
     "text": [
      "fibonacci number is  34\n"
     ]
    }
   ],
   "source": [
    "# Python program Tabulated (bottom up) version\n",
    "def fib(n):\n",
    "    \n",
    "    #array declaration\n",
    "    f = [0]*(n+1)\n",
    "    \n",
    "    #base case assignment\n",
    "    f[1] =1\n",
    "    \n",
    "    #calculating the fibonacci and storing the values\n",
    "    for i in range(2, n+1):\n",
    "        f[i] = f[i-1]+f[i-2]\n",
    "    return f[n]\n",
    "\n",
    "# Driver program to test the above function \n",
    "def main():\n",
    "    n =9\n",
    "    print(\"fibonacci number is \", fib(n))\n",
    "if __name__ == \"__main__\":\n",
    "    main()\n",
    "    "
   ]
  },
  {
   "cell_type": "markdown",
   "metadata": {},
   "source": [
    "## 2. Optimal Substructure property in Dynamic Programming\n",
    "A given problem has Optimal Substructure Property if optimal solution of the given problem can be obtained by using optimal solutions of its subproblems. <br>\n",
    "For example, the Shortest Path problem has follwoing optimal substructure property: <br>\n",
    "if a node x lies in the shortest path form a source node u to destination node v then the shortest path from u to v is the combination of shortest path from u to x and shortest path from x to v. The standard All Pair Shortest Path algorithms like Floyd- Warshall and Bellman-Ford are typical examples of Dynamic Programming. <br>\n",
    "On the other hand, the Longest Path problem doesn't have the Optimal Substructure property. Here by Longest Path we mean longest simple path(path without cycle) between two nodes. consider the following unweighted graph given in the CLRS book.\n",
    "<code>\n",
    "q -----r\n",
    "|      |\n",
    "|      |\n",
    "s------t\n",
    "</code>\n",
    "<br>\n",
    "There are two longest paths from q to t q->r->t and q->s->t. Unlike shortest paths, these longest path q->r->t is not a combination of longest path from q to r and longest path from r to t, because the longest path from q to r is q->s->t->r and the longest path from r to t is r->q->s->t/.\n"
   ]
  },
  {
   "cell_type": "markdown",
   "metadata": {},
   "source": [
    "<ol> <h2> Steps to solve a DP</h2>\n",
    "    <li> Identify if it is a DP problem</li>\n",
    "    <li> Decide a state expression with least parameters</li>\n",
    "    <li> Fomulate state relationship </li>\n",
    "    <li> Do tabulation(or add memoization)</li>\n",
    "</ol>\n",
    "\n",
    "<br>\n",
    "<ul><b><u>Step 1: How to classify a problem  as a Dynamic Programming Problem?</u></b>\n",
    "    <li> Typicall, all the problems that requre to maximize or minimize certain quantify or counting problems that say to count the arrangements under certain condition or certain probability problems can be solved by using Dynamic programming</li>\n",
    "    <li> All dynamic programming problems satisfy the overlapping subproblems property and most of the classic dynamic problems also satisfy the optimal substructure property. Once, we observe these properties in a given problem, be sure that it can be solved using DP</li>\n",
    " <br><br><br>\n",
    "<b><u> Step 2: Deciding the state:</u></b><br>\n",
    "Dp probelms are all about state and their transition. This is the most basic step which must be done very carefully because the state transition depends on the choice of state definition you make. So, lets see what do we mean by the term \"state\".\n",
    "<br><b>State:</b> A state can be defined as the set of parameters that can uniquely identify a certain position or standing in  the given problem. This set of pararmeters should be as small as possible to reduce state space. \n",
    "<br> For example: In our famous Knapsack problem, we define our state by two parameters index and weight i.e DP[index][weight] tells us the maximum profit it can make by taking items form range 0 to index having the capacity of sack to be weight. Therefore, here the parameters index and weight togethre can uniquely identify a subproblem for the knapsack probelm. \n",
    "<br> So,our first step will be deciding a state for the problem after identifying that the problem is a DP problem.<br>\n",
    "As we know DP is all about using calculated results to formulate the final result. So, our next step will be to find a relation between previous states to reach the current state.<br><br><br>\n",
    "<b><u> Step 3: Formulating a relation among the states:</u></b><br>\n",
    "This part is the hardest part of for solving a DP problem and requires a lot of intuition, observation and practice. Let's understand it by considering a sample problem.<br>\n",
    "<code>\n",
    "    Given 3 numbers {1,3,5}, we need to tell the total number of ways we can form a number \"N\" using the sum of the given three numbers.\n",
    "    (allowing repetitions and different arrangements.\n",
    "    Total number of ways to form 6 is: 8)\n",
    "    1+1+1+1+1+1 \n",
    "    1+1+1+3\n",
    "    1+1+3+1\n",
    "    1+3+1+1\n",
    "    3+1+1+1\n",
    "    3+3\n",
    "    1+5\n",
    "    5+1\n",
    "    </code>\n",
    "<br>\n",
    "    Let's think dynamically about this problem. So, first of all, we decide a state for the given problem. We will take a parameter n to decide state as it can uniquely identify any subproblem. So, our state dp will look like state(n). Here, state(n) means the total number of arrangements to form n by using {1,3,5} as elements. \n",
    "  <br>\n",
    "    <b> How to do it?</b><br>\n",
    "    So here the intuition comes into action. As we can only use 1,3 or 5 to form a given number. Let us assume that we know the result for n = 1,2,3,4,5,6; being termilogistic let us say we know the result for the state(n=1), state(n=2), state(n=3)... state(n=6)\n",
    "    <br>\n",
    "    Now we wish to know the result of the state(n=7). See, we can only add 1,3, and 5 Now we can get a sum total of 7 by the following 3 ways:\n",
    "    <ol><li>Adding 1 to all possible combinations of state (n=6):<br>\n",
    "       <code> Eg : [ (1+1+1+1+1+1) + 1]\n",
    "            [ (1+1+1+3) + 1]\n",
    "            [ (1+1+3+1) + 1]\n",
    "            [ (1+3+1+1) + 1]\n",
    "            [ (3+1+1+1) + 1]\n",
    "            [ (3+3) + 1]\n",
    "            [ (1+5) + 1]\n",
    "           [ (5+1) + 1] </code>\n",
    "        </li>\n",
    "        <li> Adding 3 to all possible combinations of state(n=4);\n",
    "        <br>Eg : [(1+1+1+1) + 3], [(1+3) + 3], [(3+1) + 3]</li>\n",
    "        <li> Adding 5 to all possible combinations of state(n=2)\n",
    "            Eg:[(1+1)+5] <br> Now, think carefully and satisfy yourelf that the above three cases are covering all possible ways to form a sum total of 7\n",
    "        Therefore, we can say that result for \n",
    "            state(7) = state(6) + state(4) + state(2)\n",
    "           <br> or <br>\n",
    "            state(7) = state(7-1) + state(7-3) + state(7-5)\n",
    "            In general,\n",
    "            state(n) = state(n-1) + state(n-3)+ state(n-5)\n",
    "        <br>\n",
    "            </ol>\n",
    "</ul>\n",
    "So, our code will look like:"
   ]
  },
  {
   "cell_type": "code",
   "execution_count": 4,
   "metadata": {},
   "outputs": [],
   "source": [
    "#returns the number of arrangements to form n\n",
    "def solve(n):\n",
    "    if n<0:\n",
    "        return 0\n",
    "    if n == 0:\n",
    "        return 1\n",
    "    return solve(n-1) + solve(n-3) + solve(n-5)\n"
   ]
  },
  {
   "cell_type": "markdown",
   "metadata": {},
   "source": [
    "The above code seems exponential as it is calculatng the same state again and again. So, we just need to add a memoization.<br><br>\n",
    "<br><b>Step 4: Adding memoization or tabulation for the state</b>\n",
    "This is the easister part of a dynamic programming solution. We just need to store the state answer so that next time that state is required, we can directly use it from our memory. \n",
    "Adding memoization to the above code.\n"
   ]
  },
  {
   "cell_type": "code",
   "execution_count": 6,
   "metadata": {},
   "outputs": [],
   "source": [
    "# initialise to -1\n",
    "MAXN = 1000\n",
    "dp=[-1 for num in range(MAXN)] \n",
    "# This function returns the number of arrangements to form \"n\"\n",
    "def solve(n):\n",
    "    # base case\n",
    "    if n<0:\n",
    "        return 0\n",
    "    if n == 0:\n",
    "        return 1\n",
    "    \n",
    "    # checking if already calculated \n",
    "    if dp[n] != -1:\n",
    "        return dp[n]\n",
    "    dp[n] = solve(n-1) + solve(n-3) + solve(n-5)\n",
    "    return dp[n]\n"
   ]
  },
  {
   "cell_type": "markdown",
   "metadata": {},
   "source": [
    "Another way is to add tabulation and make solution iterative. Dynamic programming comes with a lots of practice. One must try solving various classic DP problems. A few will be shared below.\n"
   ]
  },
  {
   "cell_type": "code",
   "execution_count": null,
   "metadata": {},
   "outputs": [],
   "source": []
  }
 ],
 "metadata": {
  "kernelspec": {
   "display_name": "Python 3",
   "language": "python",
   "name": "python3"
  },
  "language_info": {
   "codemirror_mode": {
    "name": "ipython",
    "version": 3
   },
   "file_extension": ".py",
   "mimetype": "text/x-python",
   "name": "python",
   "nbconvert_exporter": "python",
   "pygments_lexer": "ipython3",
   "version": "3.7.3"
  }
 },
 "nbformat": 4,
 "nbformat_minor": 2
}
